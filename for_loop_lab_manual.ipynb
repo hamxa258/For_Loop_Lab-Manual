{
 "cells": [
  {
   "cell_type": "markdown",
   "id": "d3543eeb-fc59-43b8-9322-b66ba2e15f49",
   "metadata": {},
   "source": [
    "## hamza rashid\n",
    "## fa25-bbd-034"
   ]
  },
  {
   "cell_type": "markdown",
   "id": "17c4caf5-db96-4359-a36f-1abbb0d05854",
   "metadata": {},
   "source": [
    "## Q:1"
   ]
  },
  {
   "cell_type": "code",
   "execution_count": 26,
   "id": "9a4b84b2-674a-43ed-ab1e-e59edbe3b9b7",
   "metadata": {},
   "outputs": [
    {
     "name": "stdout",
     "output_type": "stream",
     "text": [
      " Even numbers from 2 to 20:\n",
      "2\n",
      "4\n",
      "6\n",
      "8\n",
      "10\n",
      "12\n",
      "14\n",
      "16\n",
      "18\n",
      "20\n"
     ]
    }
   ],
   "source": [
    "print(\" Even numbers from 2 to 20:\")\n",
    "for num in range(2, 21, 2):\n",
    "    print(num)"
   ]
  },
  {
   "cell_type": "markdown",
   "id": "bd584bab-39cc-4c8a-a1ed-45420ca65145",
   "metadata": {},
   "source": [
    "## Q:2"
   ]
  },
  {
   "cell_type": "code",
   "execution_count": 27,
   "id": "807f22ab-27b8-4693-92a6-843e7924ec80",
   "metadata": {},
   "outputs": [
    {
     "name": "stdout",
     "output_type": "stream",
     "text": [
      " Names in uppercase:\n",
      "ALI\n",
      "HAMZA\n",
      "SARA\n",
      "AYESHA\n",
      "USMAN\n"
     ]
    }
   ],
   "source": [
    "print(\" Names in uppercase:\")\n",
    "names = [\"Ali\", \"Hamza\", \"Sara\", \"Ayesha\", \"Usman\"]\n",
    "for name in names:\n",
    "    print(name.upper())"
   ]
  },
  {
   "cell_type": "markdown",
   "id": "f862dbb7-7019-437e-bee1-a5ccb11833af",
   "metadata": {},
   "source": [
    "## Q:3"
   ]
  },
  {
   "cell_type": "code",
   "execution_count": 28,
   "id": "dedcaa1f-daf0-4ebb-ad2d-8adc1bfeddcc",
   "metadata": {},
   "outputs": [
    {
     "name": "stdout",
     "output_type": "stream",
     "text": [
      " Numbers from 10 to 1 in reverse:\n",
      "10\n",
      "9\n",
      "8\n",
      "7\n",
      "6\n",
      "5\n",
      "4\n",
      "3\n",
      "2\n",
      "1\n"
     ]
    }
   ],
   "source": [
    "print(\" Numbers from 10 to 1 in reverse:\")\n",
    "for i in range(10, 0, -1):\n",
    "    print(i)\n",
    "    "
   ]
  },
  {
   "cell_type": "markdown",
   "id": "bb678746-6c03-4e95-b347-195ef7c2fd81",
   "metadata": {},
   "source": [
    "## Q:4"
   ]
  },
  {
   "cell_type": "code",
   "execution_count": 36,
   "id": "37f3ffb8-c94f-4683-8215-5220e75d4a8c",
   "metadata": {},
   "outputs": [
    {
     "name": "stdout",
     "output_type": "stream",
     "text": [
      " Numbers divisible by 3:\n",
      "9\n",
      "12\n",
      "15\n",
      "21\n"
     ]
    }
   ],
   "source": [
    "print(\" Numbers divisible by 3:\")\n",
    "numbers = [4, 9, 12, 15, 17, 20, 21, 25]\n",
    "for n in numbers:\n",
    "    if n % 3 == 0:\n",
    "        print(n)"
   ]
  },
  {
   "cell_type": "markdown",
   "id": "bb896a35-4454-4e29-9b30-0f8076846a46",
   "metadata": {},
   "source": [
    "## Q:5"
   ]
  },
  {
   "cell_type": "code",
   "execution_count": 37,
   "id": "06806129-e5ea-4da7-896e-2d486c1017c2",
   "metadata": {},
   "outputs": [
    {
     "name": "stdout",
     "output_type": "stream",
     "text": [
      " Squares of numbers from 1 to 10:\n",
      "1x1 = 1\n",
      "2x2 = 4\n",
      "3x3 = 9\n",
      "4x4 = 16\n",
      "5x5 = 25\n",
      "6x6 = 36\n",
      "7x7 = 49\n",
      "8x8 = 64\n",
      "9x9 = 81\n",
      "10x10 = 100\n"
     ]
    }
   ],
   "source": [
    "print(\" Squares of numbers from 1 to 10:\")\n",
    "for i in range(1, 11):\n",
    "    print(f\"{i}x{i} = {i ** 2}\")"
   ]
  },
  {
   "cell_type": "markdown",
   "id": "41badeed-d152-4674-9ac6-03dcdb1b42cc",
   "metadata": {},
   "source": [
    "## Q:6"
   ]
  },
  {
   "cell_type": "code",
   "execution_count": 38,
   "id": "c38bd7ee-0f92-48f5-9cc0-c02987734e41",
   "metadata": {},
   "outputs": [
    {
     "name": "stdout",
     "output_type": "stream",
     "text": [
      " Temperatures in Fahrenheit:\n",
      "0C = 32.0F\n",
      "10C = 50.0F\n",
      "20C = 68.0F\n",
      "30C = 86.0F\n",
      "40C = 104.0F\n"
     ]
    }
   ],
   "source": [
    "print(\" Temperatures in Fahrenheit:\")\n",
    "celsius = [0, 10, 20, 30, 40]\n",
    "for c in celsius:\n",
    "    f = (c * 9/5) + 32\n",
    "    print(f\"{c}C = {f}F\")"
   ]
  },
  {
   "cell_type": "markdown",
   "id": "23ceee08-4b1e-44d8-b461-b9f03d1605fa",
   "metadata": {},
   "source": [
    "## Q:7"
   ]
  },
  {
   "cell_type": "code",
   "execution_count": 39,
   "id": "810c7a7b-8ccd-476e-8af6-66090e0c1076",
   "metadata": {},
   "outputs": [
    {
     "name": "stdout",
     "output_type": "stream",
     "text": [
      " Multiplication Table of 5:\n",
      "5 x 1 = 5\n",
      "5 x 2 = 10\n",
      "5 x 3 = 15\n",
      "5 x 4 = 20\n",
      "5 x 5 = 25\n",
      "5 x 6 = 30\n",
      "5 x 7 = 35\n",
      "5 x 8 = 40\n",
      "5 x 9 = 45\n",
      "5 x 10 = 50\n"
     ]
    }
   ],
   "source": [
    "print(\" Multiplication Table of 5:\")\n",
    "for i in range(1, 11):\n",
    "    print(f\"5 x {i} = {5 * i}\")"
   ]
  },
  {
   "cell_type": "markdown",
   "id": "6ff2549d-6317-4469-9c6b-f606e6e87824",
   "metadata": {},
   "source": [
    "## Q:8"
   ]
  },
  {
   "cell_type": "code",
   "execution_count": 40,
   "id": "486d67a8-84bd-433e-9940-0cc106bde6a4",
   "metadata": {},
   "outputs": [
    {
     "name": "stdout",
     "output_type": "stream",
     "text": [
      "Sum of all numbers in a list:\n",
      "Sum = 75\n"
     ]
    }
   ],
   "source": [
    "\n",
    "\n",
    "print(\"Sum of all numbers in a list:\")\n",
    "nums = [5, 10, 15, 20, 25]\n",
    "total = 0\n",
    "for n in nums:\n",
    "    total += n\n",
    "print(\"Sum =\", total)"
   ]
  },
  {
   "cell_type": "markdown",
   "id": "a8559286-e437-4228-a77a-6189fa71792a",
   "metadata": {},
   "source": [
    "## Q:9"
   ]
  },
  {
   "cell_type": "code",
   "execution_count": 41,
   "id": "7cbd8a2a-b62f-4043-b6fd-7b438d9fe50a",
   "metadata": {},
   "outputs": [
    {
     "name": "stdout",
     "output_type": "stream",
     "text": [
      "Characters in a string:\n",
      "B\n",
      "u\n",
      "s\n",
      "i\n",
      "n\n",
      "e\n",
      "s\n",
      "s\n"
     ]
    }
   ],
   "source": [
    "print(\"Characters in a string:\")\n",
    "text = \"Business\"\n",
    "for ch in text:\n",
    "    print(ch)"
   ]
  },
  {
   "cell_type": "markdown",
   "id": "729bb4d1-f518-4819-9dae-251dfea9335b",
   "metadata": {},
   "source": [
    "## Q:10"
   ]
  },
  {
   "cell_type": "code",
   "execution_count": 42,
   "id": "e082835b-cd3a-493a-81e9-49027a97029d",
   "metadata": {},
   "outputs": [
    {
     "name": "stdout",
     "output_type": "stream",
     "text": [
      "Words with more than 5 letters:\n",
      "banana\n",
      "grapes\n",
      "pineapple\n"
     ]
    }
   ],
   "source": [
    "print(\"Words with more than 5 letters:\")\n",
    "words = [\"apple\", \"banana\", \"grapes\", \"kiwi\", \"pineapple\", \"pear\"]\n",
    "for word in words:\n",
    "    if len(word) > 5:\n",
    "        print(word)"
   ]
  }
 ],
 "metadata": {
  "kernelspec": {
   "display_name": "Python 3 (ipykernel)",
   "language": "python",
   "name": "python3"
  },
  "language_info": {
   "codemirror_mode": {
    "name": "ipython",
    "version": 3
   },
   "file_extension": ".py",
   "mimetype": "text/x-python",
   "name": "python",
   "nbconvert_exporter": "python",
   "pygments_lexer": "ipython3",
   "version": "3.13.5"
  }
 },
 "nbformat": 4,
 "nbformat_minor": 5
}
